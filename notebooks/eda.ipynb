{
 "cells": [
  {
   "cell_type": "code",
   "execution_count": 42,
   "id": "cacade2c",
   "metadata": {},
   "outputs": [],
   "source": [
    "import pandas as pd\n",
    "\n",
    "df = pd.read_csv(\"../data/train.csv\")"
   ]
  },
  {
   "cell_type": "code",
   "execution_count": 43,
   "id": "d3fad79e",
   "metadata": {
    "scrolled": true
   },
   "outputs": [
    {
     "data": {
      "text/html": [
       "<div>\n",
       "<style scoped>\n",
       "    .dataframe tbody tr th:only-of-type {\n",
       "        vertical-align: middle;\n",
       "    }\n",
       "\n",
       "    .dataframe tbody tr th {\n",
       "        vertical-align: top;\n",
       "    }\n",
       "\n",
       "    .dataframe thead th {\n",
       "        text-align: right;\n",
       "    }\n",
       "</style>\n",
       "<table border=\"1\" class=\"dataframe\">\n",
       "  <thead>\n",
       "    <tr style=\"text-align: right;\">\n",
       "      <th></th>\n",
       "      <th>ID</th>\n",
       "      <th>var3</th>\n",
       "      <th>var15</th>\n",
       "      <th>imp_ent_var16_ult1</th>\n",
       "      <th>imp_op_var39_comer_ult1</th>\n",
       "      <th>imp_op_var39_comer_ult3</th>\n",
       "      <th>imp_op_var40_comer_ult1</th>\n",
       "      <th>imp_op_var40_comer_ult3</th>\n",
       "      <th>imp_op_var40_efect_ult1</th>\n",
       "      <th>imp_op_var40_efect_ult3</th>\n",
       "      <th>...</th>\n",
       "      <th>saldo_medio_var33_hace2</th>\n",
       "      <th>saldo_medio_var33_hace3</th>\n",
       "      <th>saldo_medio_var33_ult1</th>\n",
       "      <th>saldo_medio_var33_ult3</th>\n",
       "      <th>saldo_medio_var44_hace2</th>\n",
       "      <th>saldo_medio_var44_hace3</th>\n",
       "      <th>saldo_medio_var44_ult1</th>\n",
       "      <th>saldo_medio_var44_ult3</th>\n",
       "      <th>var38</th>\n",
       "      <th>TARGET</th>\n",
       "    </tr>\n",
       "  </thead>\n",
       "  <tbody>\n",
       "    <tr>\n",
       "      <th>0</th>\n",
       "      <td>1</td>\n",
       "      <td>2</td>\n",
       "      <td>23</td>\n",
       "      <td>0.0</td>\n",
       "      <td>0.0</td>\n",
       "      <td>0.0</td>\n",
       "      <td>0.0</td>\n",
       "      <td>0.0</td>\n",
       "      <td>0.0</td>\n",
       "      <td>0.0</td>\n",
       "      <td>...</td>\n",
       "      <td>0.0</td>\n",
       "      <td>0.0</td>\n",
       "      <td>0.0</td>\n",
       "      <td>0.0</td>\n",
       "      <td>0.0</td>\n",
       "      <td>0.0</td>\n",
       "      <td>0.0</td>\n",
       "      <td>0.0</td>\n",
       "      <td>39205.170000</td>\n",
       "      <td>0</td>\n",
       "    </tr>\n",
       "    <tr>\n",
       "      <th>1</th>\n",
       "      <td>3</td>\n",
       "      <td>2</td>\n",
       "      <td>34</td>\n",
       "      <td>0.0</td>\n",
       "      <td>0.0</td>\n",
       "      <td>0.0</td>\n",
       "      <td>0.0</td>\n",
       "      <td>0.0</td>\n",
       "      <td>0.0</td>\n",
       "      <td>0.0</td>\n",
       "      <td>...</td>\n",
       "      <td>0.0</td>\n",
       "      <td>0.0</td>\n",
       "      <td>0.0</td>\n",
       "      <td>0.0</td>\n",
       "      <td>0.0</td>\n",
       "      <td>0.0</td>\n",
       "      <td>0.0</td>\n",
       "      <td>0.0</td>\n",
       "      <td>49278.030000</td>\n",
       "      <td>0</td>\n",
       "    </tr>\n",
       "    <tr>\n",
       "      <th>2</th>\n",
       "      <td>4</td>\n",
       "      <td>2</td>\n",
       "      <td>23</td>\n",
       "      <td>0.0</td>\n",
       "      <td>0.0</td>\n",
       "      <td>0.0</td>\n",
       "      <td>0.0</td>\n",
       "      <td>0.0</td>\n",
       "      <td>0.0</td>\n",
       "      <td>0.0</td>\n",
       "      <td>...</td>\n",
       "      <td>0.0</td>\n",
       "      <td>0.0</td>\n",
       "      <td>0.0</td>\n",
       "      <td>0.0</td>\n",
       "      <td>0.0</td>\n",
       "      <td>0.0</td>\n",
       "      <td>0.0</td>\n",
       "      <td>0.0</td>\n",
       "      <td>67333.770000</td>\n",
       "      <td>0</td>\n",
       "    </tr>\n",
       "    <tr>\n",
       "      <th>3</th>\n",
       "      <td>8</td>\n",
       "      <td>2</td>\n",
       "      <td>37</td>\n",
       "      <td>0.0</td>\n",
       "      <td>195.0</td>\n",
       "      <td>195.0</td>\n",
       "      <td>0.0</td>\n",
       "      <td>0.0</td>\n",
       "      <td>0.0</td>\n",
       "      <td>0.0</td>\n",
       "      <td>...</td>\n",
       "      <td>0.0</td>\n",
       "      <td>0.0</td>\n",
       "      <td>0.0</td>\n",
       "      <td>0.0</td>\n",
       "      <td>0.0</td>\n",
       "      <td>0.0</td>\n",
       "      <td>0.0</td>\n",
       "      <td>0.0</td>\n",
       "      <td>64007.970000</td>\n",
       "      <td>0</td>\n",
       "    </tr>\n",
       "    <tr>\n",
       "      <th>4</th>\n",
       "      <td>10</td>\n",
       "      <td>2</td>\n",
       "      <td>39</td>\n",
       "      <td>0.0</td>\n",
       "      <td>0.0</td>\n",
       "      <td>0.0</td>\n",
       "      <td>0.0</td>\n",
       "      <td>0.0</td>\n",
       "      <td>0.0</td>\n",
       "      <td>0.0</td>\n",
       "      <td>...</td>\n",
       "      <td>0.0</td>\n",
       "      <td>0.0</td>\n",
       "      <td>0.0</td>\n",
       "      <td>0.0</td>\n",
       "      <td>0.0</td>\n",
       "      <td>0.0</td>\n",
       "      <td>0.0</td>\n",
       "      <td>0.0</td>\n",
       "      <td>117310.979016</td>\n",
       "      <td>0</td>\n",
       "    </tr>\n",
       "  </tbody>\n",
       "</table>\n",
       "<p>5 rows × 371 columns</p>\n",
       "</div>"
      ],
      "text/plain": [
       "   ID  var3  var15  imp_ent_var16_ult1  imp_op_var39_comer_ult1  \\\n",
       "0   1     2     23                 0.0                      0.0   \n",
       "1   3     2     34                 0.0                      0.0   \n",
       "2   4     2     23                 0.0                      0.0   \n",
       "3   8     2     37                 0.0                    195.0   \n",
       "4  10     2     39                 0.0                      0.0   \n",
       "\n",
       "   imp_op_var39_comer_ult3  imp_op_var40_comer_ult1  imp_op_var40_comer_ult3  \\\n",
       "0                      0.0                      0.0                      0.0   \n",
       "1                      0.0                      0.0                      0.0   \n",
       "2                      0.0                      0.0                      0.0   \n",
       "3                    195.0                      0.0                      0.0   \n",
       "4                      0.0                      0.0                      0.0   \n",
       "\n",
       "   imp_op_var40_efect_ult1  imp_op_var40_efect_ult3  ...  \\\n",
       "0                      0.0                      0.0  ...   \n",
       "1                      0.0                      0.0  ...   \n",
       "2                      0.0                      0.0  ...   \n",
       "3                      0.0                      0.0  ...   \n",
       "4                      0.0                      0.0  ...   \n",
       "\n",
       "   saldo_medio_var33_hace2  saldo_medio_var33_hace3  saldo_medio_var33_ult1  \\\n",
       "0                      0.0                      0.0                     0.0   \n",
       "1                      0.0                      0.0                     0.0   \n",
       "2                      0.0                      0.0                     0.0   \n",
       "3                      0.0                      0.0                     0.0   \n",
       "4                      0.0                      0.0                     0.0   \n",
       "\n",
       "   saldo_medio_var33_ult3  saldo_medio_var44_hace2  saldo_medio_var44_hace3  \\\n",
       "0                     0.0                      0.0                      0.0   \n",
       "1                     0.0                      0.0                      0.0   \n",
       "2                     0.0                      0.0                      0.0   \n",
       "3                     0.0                      0.0                      0.0   \n",
       "4                     0.0                      0.0                      0.0   \n",
       "\n",
       "   saldo_medio_var44_ult1  saldo_medio_var44_ult3          var38  TARGET  \n",
       "0                     0.0                     0.0   39205.170000       0  \n",
       "1                     0.0                     0.0   49278.030000       0  \n",
       "2                     0.0                     0.0   67333.770000       0  \n",
       "3                     0.0                     0.0   64007.970000       0  \n",
       "4                     0.0                     0.0  117310.979016       0  \n",
       "\n",
       "[5 rows x 371 columns]"
      ]
     },
     "execution_count": 43,
     "metadata": {},
     "output_type": "execute_result"
    }
   ],
   "source": [
    "df.head()"
   ]
  },
  {
   "cell_type": "code",
   "execution_count": 44,
   "id": "50decf7a",
   "metadata": {},
   "outputs": [
    {
     "name": "stdout",
     "output_type": "stream",
     "text": [
      "76020\n"
     ]
    }
   ],
   "source": [
    "print(len(df))"
   ]
  },
  {
   "cell_type": "code",
   "execution_count": 45,
   "id": "819d8018",
   "metadata": {},
   "outputs": [
    {
     "name": "stdout",
     "output_type": "stream",
     "text": [
      "3008\n",
      "0.0395685345961589\n"
     ]
    }
   ],
   "source": [
    "print(sum(df[\"TARGET\"]))\n",
    "print(sum(df[\"TARGET\"])/len(df))"
   ]
  },
  {
   "cell_type": "code",
   "execution_count": 46,
   "id": "4443e65e",
   "metadata": {},
   "outputs": [
    {
     "name": "stdout",
     "output_type": "stream",
     "text": [
      "337\n"
     ]
    }
   ],
   "source": [
    "not_null_column_list = []\n",
    "\n",
    "for column in df.columns: \n",
    "    if len(df[column].unique()) > 1: \n",
    "        not_null_column_list.append(column)\n",
    "print(len(not_null_column_list))"
   ]
  },
  {
   "cell_type": "code",
   "execution_count": 47,
   "id": "3dfb72aa",
   "metadata": {},
   "outputs": [],
   "source": [
    "df = df[not_null_column_list]"
   ]
  },
  {
   "cell_type": "code",
   "execution_count": 48,
   "id": "66f2763b",
   "metadata": {},
   "outputs": [
    {
     "name": "stdout",
     "output_type": "stream",
     "text": [
      "3008\n",
      "73012\n"
     ]
    }
   ],
   "source": [
    "df_positive = df.loc[df[\"TARGET\"] == 1]\n",
    "print(len(df_positive))\n",
    "df_negative = df.loc[df[\"TARGET\"] == 0]\n",
    "print(len(df_negative))\n",
    "df_positive = df_positive.drop(\"TARGET\", axis=1)\n",
    "df_negative = df_negative.drop(\"TARGET\", axis=1)"
   ]
  },
  {
   "cell_type": "code",
   "execution_count": 49,
   "id": "bbb383ce",
   "metadata": {},
   "outputs": [
    {
     "name": "stdout",
     "output_type": "stream",
     "text": [
      "0        0\n",
      "1        0\n",
      "2        0\n",
      "3        0\n",
      "4        0\n",
      "        ..\n",
      "76015    0\n",
      "76016    0\n",
      "76017    0\n",
      "76018    0\n",
      "76019    0\n",
      "Name: TARGET, Length: 76020, dtype: int64\n"
     ]
    }
   ],
   "source": [
    "df_target = pd.DataFrame(columns=[\"TARGET\"])\n",
    "df_target[\"TARGET\"] = df[\"TARGET\"]\n",
    "df = df.drop(\"TARGET\", axis=1)"
   ]
  },
  {
   "cell_type": "code",
   "execution_count": 50,
   "id": "0fb2dd21",
   "metadata": {},
   "outputs": [
    {
     "name": "stdout",
     "output_type": "stream",
     "text": [
      "['ind_var6_0', 'ind_var6', 'ind_var13_medio_0', 'ind_var13_medio', 'ind_var18_0', 'ind_var18', 'ind_var20_0', 'ind_var20', 'ind_var29_0', 'ind_var29', 'ind_var33_0', 'ind_var33', 'ind_var34_0', 'ind_var34', 'num_var6_0', 'num_var6', 'num_var13_medio_0', 'num_var13_medio', 'num_var18_0', 'num_var18', 'num_var20_0', 'num_var20', 'num_op_var40_hace3', 'num_var29_0', 'num_var29', 'num_var33_0', 'num_var33', 'num_var34_0', 'num_var34', 'saldo_var6', 'saldo_var13_medio', 'saldo_var18', 'saldo_var20', 'saldo_var29', 'saldo_var33', 'saldo_var34', 'delta_imp_amort_var18_1y3', 'delta_imp_amort_var34_1y3', 'delta_imp_aport_var33_1y3', 'delta_imp_reemb_var33_1y3', 'delta_imp_trasp_var17_in_1y3', 'delta_imp_trasp_var17_out_1y3', 'delta_imp_trasp_var33_in_1y3', 'delta_imp_trasp_var33_out_1y3', 'delta_imp_venta_var44_1y3', 'delta_num_aport_var33_1y3', 'delta_num_reemb_var33_1y3', 'delta_num_trasp_var17_in_1y3', 'delta_num_trasp_var17_out_1y3', 'delta_num_trasp_var33_in_1y3', 'delta_num_trasp_var33_out_1y3', 'delta_num_venta_var44_1y3', 'imp_amort_var18_ult1', 'imp_amort_var34_ult1', 'imp_aport_var17_hace3', 'imp_aport_var33_hace3', 'imp_aport_var33_ult1', 'imp_var7_emit_ult1', 'imp_compra_var44_hace3', 'imp_reemb_var17_hace3', 'imp_reemb_var33_ult1', 'imp_trasp_var17_in_hace3', 'imp_trasp_var17_in_ult1', 'imp_trasp_var17_out_ult1', 'imp_trasp_var33_in_hace3', 'imp_trasp_var33_in_ult1', 'imp_trasp_var33_out_ult1', 'imp_venta_var44_hace3', 'imp_venta_var44_ult1', 'ind_var7_emit_ult1', 'num_aport_var17_hace3', 'num_aport_var33_hace3', 'num_aport_var33_ult1', 'num_var7_emit_ult1', 'num_compra_var44_hace3', 'num_meses_var13_largo_ult3', 'num_meses_var13_medio_ult3', 'num_meses_var29_ult3', 'num_meses_var33_ult3', 'num_reemb_var17_hace3', 'num_reemb_var33_ult1', 'num_trasp_var17_in_hace3', 'num_trasp_var17_in_ult1', 'num_trasp_var17_out_ult1', 'num_trasp_var33_in_hace3', 'num_trasp_var33_in_ult1', 'num_trasp_var33_out_ult1', 'num_venta_var44_hace3', 'num_venta_var44_ult1', 'saldo_medio_var13_largo_hace2', 'saldo_medio_var13_largo_hace3', 'saldo_medio_var13_largo_ult1', 'saldo_medio_var13_largo_ult3', 'saldo_medio_var13_medio_hace2', 'saldo_medio_var13_medio_ult1', 'saldo_medio_var13_medio_ult3', 'saldo_medio_var17_hace2', 'saldo_medio_var17_hace3', 'saldo_medio_var29_hace2', 'saldo_medio_var29_hace3', 'saldo_medio_var29_ult1', 'saldo_medio_var29_ult3', 'saldo_medio_var33_hace2', 'saldo_medio_var33_hace3', 'saldo_medio_var33_ult1', 'saldo_medio_var33_ult3', 'saldo_medio_var44_hace2', 'saldo_medio_var44_hace3']\n"
     ]
    }
   ],
   "source": [
    "positive_not_unique_column_list = []\n",
    "positive_unique_column_list = []\n",
    "\n",
    "for column in df_positive.columns: \n",
    "    if len(df_positive[column].unique()) > 1: \n",
    "        positive_not_unique_column_list.append(column)\n",
    "    else:\n",
    "        positive_unique_column_list.append(column)\n",
    "print(positive_unique_column_list)"
   ]
  },
  {
   "cell_type": "code",
   "execution_count": 51,
   "id": "37ef1dc2",
   "metadata": {},
   "outputs": [
    {
     "name": "stdout",
     "output_type": "stream",
     "text": [
      "[]\n"
     ]
    }
   ],
   "source": [
    "negative_not_unique_column_list = []\n",
    "negative_unique_column_list = []\n",
    "\n",
    "for column in df_negative.columns: \n",
    "    if len(df_negative[column].unique()) > 1: \n",
    "        negative_not_unique_column_list.append(column)\n",
    "    else:\n",
    "        negative_unique_column_list.append(column)\n",
    "print(negative_unique_column_list)"
   ]
  },
  {
   "cell_type": "code",
   "execution_count": 52,
   "id": "9525f3d5",
   "metadata": {},
   "outputs": [
    {
     "name": "stdout",
     "output_type": "stream",
     "text": [
      "228\n"
     ]
    }
   ],
   "source": [
    "print(len(set(positive_not_unique_column_list).intersection(set(negative_not_unique_column_list))))"
   ]
  },
  {
   "cell_type": "code",
   "execution_count": 53,
   "id": "facda7f3",
   "metadata": {},
   "outputs": [
    {
     "name": "stdout",
     "output_type": "stream",
     "text": [
      "228\n"
     ]
    }
   ],
   "source": [
    "positive_unique_column_dict = dict()\n",
    "\n",
    "for column in positive_unique_column_list:\n",
    "    if len(set(df_negative[column].values.tolist()).intersection(set(df_positive[column].values.tolist()))) == 0:\n",
    "        print(f\"{column} is unique\")\n",
    "    else:\n",
    "        positive_unique_column_dict[column] = df_positive[column].values.tolist()[0]\n",
    "        df_target = df_target.loc[df[column] == df_positive[column].values.tolist()[0]]\n",
    "        df = df.loc[df[column] == df_positive[column].values.tolist()[0]]\n",
    "        df = df.drop(column, axis=1)\n",
    "print(len(df.columns))"
   ]
  },
  {
   "cell_type": "code",
   "execution_count": 54,
   "id": "aa13b4c3",
   "metadata": {},
   "outputs": [
    {
     "name": "stdout",
     "output_type": "stream",
     "text": [
      "160\n",
      "0\n",
      "68\n"
     ]
    }
   ],
   "source": [
    "numerical_column_list = df.select_dtypes(include=['number']).columns.tolist()\n",
    "numerical_column_list_temp = numerical_column_list.copy()\n",
    "categorical_column_list = df.select_dtypes(include=['object']).columns.tolist()\n",
    "boolean_column_list = df.select_dtypes(include=['bool']).columns.tolist()\n",
    "\n",
    "for column in numerical_column_list:\n",
    "    if len(df[column].unique()) == 2:\n",
    "        df[column] = df[column] == min(df[column])\n",
    "        numerical_column_list_temp.remove(column)\n",
    "        boolean_column_list.append(column)\n",
    "numerical_column_list = numerical_column_list_temp.copy()\n",
    "\n",
    "print(len(numerical_column_list))\n",
    "print(len(categorical_column_list))\n",
    "print(len(boolean_column_list))\n"
   ]
  },
  {
   "cell_type": "code",
   "execution_count": 58,
   "id": "0e95b895",
   "metadata": {},
   "outputs": [
    {
     "name": "stdout",
     "output_type": "stream",
     "text": [
      "{'ind_var30': 0.14958363752842763, 'ind_var5': 0.137923487716428, 'ind_var8_0': 0.04692486716089695, 'ind_var5_0': 0.04064524718501758, 'ind_var39_0': 0.037951511208131734, 'ind_var41_0': 0.03710532503752316, 'ind_var12_0': 0.03609249419040907, 'ind_var13': 0.03601585195013636, 'ind_var13_0': 0.03582324256765747, 'ind_var13_corto': 0.03466646457973129, 'ind_var13_corto_0': 0.0344775082399834, 'ind_var12': 0.03251224752152575, 'ind_var24': 0.03219905808036849, 'ind_var24_0': 0.030315013763915617, 'ind_var8': 0.02815569767783392, 'num_var8': 0.02815569767783392, 'ind_var26_cte': 0.02382626299658905, 'ind_var25_cte': 0.023577033583014596, 'ind_var43_recib_ult1': 0.020391199393009086, 'ind_var14_0': 0.019858115444512627, 'ind_var25_0': 0.01971982547881826, 'ind_var25': 0.01971982547881826, 'ind_var26_0': 0.019387826971226672, 'ind_var26': 0.019387826971226672, 'ind_var1': 0.010524589900488792, 'ind_var40': 0.010524589900488792, 'ind_var39': 0.010524589900488792, 'num_var1': 0.010524589900488792, 'num_var40': 0.010524589900488792, 'num_var39': 0.010524589900488792, 'ind_var10_ult1': 0.010351171885580294, 'delta_imp_reemb_var17_1y3': 0.00945094771887074, 'delta_num_reemb_var17_1y3': 0.00945094771887074, 'ind_var10cte_ult1': 0.00936635834515439, 'ind_var13_largo_0': 0.008829422271936296, 'ind_var9_ult1': 0.008759549354910587, 'ind_var13_largo': 0.008707698427410315, 'ind_var30_0': 0.008367519546683811, 'ind_var9_cte_ult1': 0.007886661917656707, 'ind_var19': 0.007428817984461274, 'ind_var14': 0.007002286782177297, 'ind_var43_emit_ult1': 0.006449168055441904, 'ind_var31': 0.004937529794990001, 'ind_var17': 0.004178779383940149, 'num_meses_var17_ult3': 0.004178779383940149, 'ind_var31_0': 0.0033298532828593204, 'ind_var37_0': 0.003185269434689193, 'ind_var37': 0.003185269434689193, 'ind_var32_cte': 0.002912699032176302, 'ind_var44_0': 0.0027040868841533543, 'ind_var44': 0.0027040868841533543, 'num_var44_0': 0.0027040868841533543, 'num_var44': 0.0027040868841533543, 'delta_imp_compra_var44_1y3': 0.0027040868841533543, 'delta_num_compra_var44_1y3': 0.0027040868841533543, 'num_meses_var44_ult3': 0.0027040868841533543, 'ind_var1_0': 0.0026952916972990187, 'ind_var40_0': 0.0026952916972990187, 'ind_var37_cte': 0.0024398220357250474, 'ind_var17_0': 0.0018720172038864183, 'ind_var7_recib_ult1': 0.00144931348154162, 'delta_imp_aport_var17_1y3': 0.0008204002898400463, 'delta_num_aport_var17_1y3': 0.0008204002898400463, 'delta_imp_reemb_var13_1y3': 0.0008173148772588654, 'delta_num_reemb_var13_1y3': 0.0008173148772588654, 'num_reemb_var13_ult1': 0.0008173148772588654, 'ind_var32_0': 0.00027670143047274796, 'ind_var32': 0.00027670143047274796}\n",
      "{'num_meses_var5_ult3': 0.1505644593901399, 'num_var30': 0.1392953912600315, 'num_var42': 0.1369489389864932, 'num_var5': 0.13664382051516602, 'var15': 0.10650689316464448, 'var36': 0.10171474011698087, 'num_var4': 0.07934543065962252, 'num_var35': 0.07603134883744415, 'num_var8_0': 0.0468807087629426, 'num_var5_0': 0.035571336123634875, 'saldo_var30': 0.03536113599889955, 'num_var13': 0.035360893556816674, 'num_var13_0': 0.03511407879999074, 'num_var13_corto': 0.03465989316457732, 'num_meses_var13_corto_ult3': 0.03453324073573843, 'num_var13_corto_0': 0.03437750751815982, 'num_var41_0': 0.03280873249948733, 'num_var12': 0.03244962428983949, 'num_var24': 0.03219304338284807, 'num_var30_0': 0.03169425786831016, 'imp_op_var39_efect_ult1': 0.03161927811590229, 'num_var39_0': 0.031375161972678936, 'imp_op_var41_efect_ult1': 0.030704136528080645, 'num_var24_0': 0.030292218192193205, 'num_meses_var12_ult3': 0.030194884623564646, 'imp_op_var41_ult1': 0.028459154340073622, 'imp_op_var39_ult1': 0.02833778626173777, 'saldo_var13': 0.02708011244769319, 'num_meses_var8_ult3': 0.026189871249673764, 'saldo_var13_corto': 0.02606454619701882, 'num_var22_ult1': 0.02604340314716782, 'saldo_medio_var13_corto_ult1': 0.025830159353802704, 'saldo_medio_var13_corto_ult3': 0.0251441160720668, 'saldo_var42': 0.024431777377340435, 'num_aport_var13_hace3': 0.02420668213170546, 'num_var12_0': 0.023351670701597358, 'saldo_medio_var13_corto_hace2': 0.023262772527341814, 'imp_op_var39_efect_ult3': 0.022901009199746032, 'imp_op_var41_efect_ult3': 0.02220464918125593, 'saldo_var12': 0.021942801579374515, 'num_op_var39_efect_ult1': 0.021785358728299665, 'saldo_var24': 0.021724817072690437, 'saldo_medio_var12_ult3': 0.02126316075362483, 'saldo_medio_var12_ult1': 0.02107378277523337, 'num_op_var41_efect_ult1': 0.02103539820045307, 'num_op_var39_efect_ult3': 0.020330605113531363, 'imp_op_var40_efect_ult3': 0.01992533431518417, 'num_op_var41_efect_ult3': 0.019691191468033255, 'saldo_medio_var5_hace2': 0.019416097165030066, 'imp_op_var40_efect_ult1': 0.019187385253117868, 'var38': 0.01911566304486353, 'num_var25_0': 0.018808323287863533, 'num_var25': 0.018808323287863533, 'imp_aport_var13_hace3': 0.0187059663846285, 'num_var42_0': 0.018684600163658898, 'num_op_var40_efect_ult1': 0.018535001766795546, 'num_med_var22_ult3': 0.01838893025046986, 'saldo_medio_var5_ult3': 0.018368767926096298, 'num_op_var40_efect_ult3': 0.018305382168061303, 'num_var26_0': 0.01829822824676797, 'num_var26': 0.01829822824676797, 'saldo_medio_var5_hace3': 0.01781224215080816, 'saldo_medio_var12_hace2': 0.017720533893006485, 'num_reemb_var17_ult1': 0.01730058598035028, 'num_var43_recib_ult1': 0.016199066802874394, 'saldo_medio_var5_ult1': 0.015209487443388183, 'num_var22_ult3': 0.014617575566322743, 'imp_reemb_var17_ult1': 0.014219904766193826, 'saldo_medio_var13_corto_hace3': 0.014047703379371305, 'saldo_var5': 0.013840670791654913, 'num_meses_var39_vig_ult3': 0.01265065865767543, 'saldo_var1': 0.012564785937180484, 'saldo_var40': 0.012564785937180484, 'saldo_medio_var12_hace3': 0.011879657610995548, 'num_op_var39_ult1': 0.011280624812447187, 'num_op_var41_ult1': 0.011137699077531309, 'num_var22_hace2': 0.01107699682705542, 'imp_op_var39_comer_ult1': 0.010816814002933023, 'imp_trans_var37_ult1': 0.010455861415988305, 'num_op_var41_ult3': 0.010388963415238341, 'imp_op_var41_comer_ult1': 0.01035811149640084, 'num_op_var39_ult3': 0.010345901250309913, 'num_var45_ult1': 0.00964978325805348, 'num_var31': 0.00954408035816387, 'num_var17': 0.009430297064632408, 'num_sal_var16_ult1': 0.009427547596735761, 'num_trasp_var11_ult1': 0.009237078791600462, 'num_var31_0': 0.00921029152495708, 'num_var17_0': 0.008953381800546638, 'saldo_medio_var17_ult1': 0.008835804141410745, 'saldo_medio_var17_ult3': 0.008835804141410745, 'num_aport_var17_ult1': 0.00857655709758817, 'num_var13_largo_0': 0.008462193285971118, 'num_var13_largo': 0.008337490418436943, 'imp_aport_var13_ult1': 0.008251082824764862, 'saldo_var13_largo': 0.007791286812889714, 'num_op_var41_hace2': 0.007605793102759395, 'num_op_var39_hace2': 0.007268290966562081, 'num_var14': 0.007023893036944084, 'num_ent_var16_ult1': 0.0069266042626059225, 'delta_num_aport_var13_1y3': 0.006920494956342501, 'delta_imp_aport_var13_1y3': 0.00692049495633144, 'num_aport_var13_ult1': 0.0065943384407889626, 'num_op_var41_comer_ult1': 0.005553797489060436, 'saldo_var26': 0.005439562887743619, 'saldo_var25': 0.0054020302234812695, 'saldo_var17': 0.005289887622313389, 'num_op_var39_comer_ult1': 0.005203766628427057, 'saldo_medio_var8_hace2': 0.00519144475454355, 'saldo_var31': 0.005181734864049907, 'var3': 0.004592362442650624, 'saldo_var37': 0.0045844923071418865, 'num_op_var41_comer_ult3': 0.004517257742242513, 'saldo_var14': 0.004297589846892092, 'num_med_var45_ult3': 0.004215827250454652, 'num_var45_hace3': 0.0041898762163770755, 'imp_op_var41_comer_ult3': 0.004165634007870519, 'imp_op_var39_comer_ult3': 0.004109175311679561, 'imp_var43_emit_ult1': 0.003959554024744611, 'num_op_var39_comer_ult3': 0.003923289158862461, 'imp_op_var40_comer_ult1': 0.0038294655762821385, 'imp_op_var40_ult1': 0.003598499207664319, 'saldo_var8': 0.003514282008436095, 'num_var1_0': 0.003316837344384938, 'num_var40_0': 0.003316837344384938, 'num_var14_0': 0.0032371509947009837, 'num_var45_ult3': 0.0032366940571647356, 'ID': 0.003188444802156714, 'saldo_medio_var8_ult1': 0.0030135771819938474, 'saldo_medio_var44_ult1': 0.00297248476215068, 'saldo_medio_var44_ult3': 0.00297248476215068, 'imp_var7_recib_ult1': 0.002907136341361013, 'saldo_medio_var8_hace3': 0.002897395466925656, 'var21': 0.0028723064507153897, 'num_op_var40_hace2': 0.0028566725287949442, 'saldo_medio_var8_ult3': 0.002595106570749797, 'imp_aport_var17_ult1': 0.0023392182634098713, 'num_op_var40_ult1': 0.0023107330008904207, 'imp_reemb_var13_ult1': 0.002298032533563071, 'num_var43_emit_ult1': 0.001872896778796753, 'num_var37_0': 0.0018716178050693423, 'num_var37': 0.0018716178050693423, 'saldo_var44': 0.0016877814700793795, 'imp_compra_var44_ult1': 0.0015927197877103677, 'num_op_var40_comer_ult3': 0.0014943823265212504, 'num_op_var41_hace3': 0.0013378485510085925, 'num_op_var39_hace3': 0.0013378485510085925, 'num_var45_hace2': 0.0008652198601878559, 'num_var22_hace3': 0.0008632661789083266, 'num_op_var40_comer_ult1': 0.0008273709461385113, 'saldo_var32': 0.0007716155240018636, 'num_op_var40_ult3': 0.0007518959004218613, 'imp_op_var40_comer_ult3': 0.0006848916406433443, 'imp_sal_var16_ult1': 0.0004932006152280883, 'num_compra_var44_ult1': 0.0004003551562580819, 'imp_ent_var16_ult1': 0.000368653814960438, 'num_var7_recib_ult1': 0.00023955156090632322, 'num_var37_med_ult2': 0.0001961638660853677, 'num_var32_0': 0.0001402743661689922, 'num_var32': 0.0001402743661689922}\n"
     ]
    }
   ],
   "source": [
    "from sklearn.metrics import matthews_corrcoef\n",
    "\n",
    "boolean_column_target_correlation_dict = dict()\n",
    "numerical_column_target_correlation_dict = dict()\n",
    "\n",
    "for column in boolean_column_list:\n",
    "    boolean_column_target_correlation_dict[column] = abs(matthews_corrcoef(df[column], df_target[\"TARGET\"]))\n",
    "for column in numerical_column_list:\n",
    "    numerical_column_target_correlation_dict[column] = abs(df[column].corr(df_target[\"TARGET\"]))\n",
    "\n",
    "boolean_column_target_correlation_dict = dict(sorted(boolean_column_target_correlation_dict.items(), key=lambda item: item[1], reverse=True))\n",
    "numerical_column_target_correlation_dict = dict(sorted(numerical_column_target_correlation_dict.items(), key=lambda item: item[1], reverse=True))\n",
    "\n",
    "print(boolean_column_target_correlation_dict)\n",
    "print(numerical_column_target_correlation_dict)"
   ]
  },
  {
   "cell_type": "code",
   "execution_count": null,
   "id": "fc9f5273",
   "metadata": {},
   "outputs": [],
   "source": []
  }
 ],
 "metadata": {
  "kernelspec": {
   "display_name": "Python 3 (ipykernel)",
   "language": "python",
   "name": "python3"
  },
  "language_info": {
   "codemirror_mode": {
    "name": "ipython",
    "version": 3
   },
   "file_extension": ".py",
   "mimetype": "text/x-python",
   "name": "python",
   "nbconvert_exporter": "python",
   "pygments_lexer": "ipython3",
   "version": "3.8.7"
  }
 },
 "nbformat": 4,
 "nbformat_minor": 5
}
